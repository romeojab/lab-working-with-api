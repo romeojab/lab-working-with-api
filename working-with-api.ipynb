{
 "cells": [
  {
   "cell_type": "code",
   "execution_count": 1,
   "id": "d2979b27",
   "metadata": {},
   "outputs": [],
   "source": [
    "import pandas as pd\n",
    "import requests\n",
    "import json\n",
    "from pandas import json_normalize\n",
    "#import getpass\n",
    "import numpy as np\n",
    "from datetime import datetime, timedelta, date\n",
    "pd.set_option('display.max_rows', 200, 'display.max_columns', 200)"
   ]
  },
  {
   "cell_type": "code",
   "execution_count": 2,
   "id": "e393912b",
   "metadata": {},
   "outputs": [
    {
     "name": "stdout",
     "output_type": "stream",
     "text": [
      "Momma: 200\n"
     ]
    }
   ],
   "source": [
    "momma = requests.get('https://yomomma-api.herokuapp.com/jokes')\n",
    "print(\"Momma:\", momma.status_code)"
   ]
  },
  {
   "cell_type": "code",
   "execution_count": 3,
   "id": "66c50e78",
   "metadata": {},
   "outputs": [
    {
     "name": "stdout",
     "output_type": "stream",
     "text": [
      "{\"joke\":\"Yo momma is so mean that she has no standard deviation.\"}\n"
     ]
    }
   ],
   "source": [
    "print(momma.text)"
   ]
  },
  {
   "cell_type": "code",
   "execution_count": 4,
   "id": "a3966b77",
   "metadata": {},
   "outputs": [
    {
     "data": {
      "text/plain": [
       "{'joke': 'Yo momma is so mean that she has no standard deviation.'}"
      ]
     },
     "execution_count": 4,
     "metadata": {},
     "output_type": "execute_result"
    }
   ],
   "source": [
    "results = momma.json()\n",
    "results"
   ]
  },
  {
   "cell_type": "code",
   "execution_count": 5,
   "id": "c9deac5c",
   "metadata": {},
   "outputs": [
    {
     "data": {
      "text/html": [
       "<div>\n",
       "<style scoped>\n",
       "    .dataframe tbody tr th:only-of-type {\n",
       "        vertical-align: middle;\n",
       "    }\n",
       "\n",
       "    .dataframe tbody tr th {\n",
       "        vertical-align: top;\n",
       "    }\n",
       "\n",
       "    .dataframe thead th {\n",
       "        text-align: right;\n",
       "    }\n",
       "</style>\n",
       "<table border=\"1\" class=\"dataframe\">\n",
       "  <thead>\n",
       "    <tr style=\"text-align: right;\">\n",
       "      <th></th>\n",
       "      <th>joke</th>\n",
       "    </tr>\n",
       "  </thead>\n",
       "  <tbody>\n",
       "    <tr>\n",
       "      <th>0</th>\n",
       "      <td>Yo momma is so mean that she has no standard d...</td>\n",
       "    </tr>\n",
       "  </tbody>\n",
       "</table>\n",
       "</div>"
      ],
      "text/plain": [
       "                                                joke\n",
       "0  Yo momma is so mean that she has no standard d..."
      ]
     },
     "execution_count": 5,
     "metadata": {},
     "output_type": "execute_result"
    }
   ],
   "source": [
    "flattened_data = json_normalize(results)\n",
    "flattened_data"
   ]
  },
  {
   "cell_type": "code",
   "execution_count": 6,
   "id": "e9236ddd",
   "metadata": {},
   "outputs": [],
   "source": [
    "# apikey = getpass.getpass()"
   ]
  },
  {
   "cell_type": "code",
   "execution_count": 7,
   "id": "7149274a",
   "metadata": {},
   "outputs": [],
   "source": [
    "# app_id = 'cf52f0b5'\n",
    "# airport = requests.get('https://developer.schiphol.nl/'+app_id+'/'+apikey)\n",
    "# airport\n",
    "# Accept: application/json\n",
    "# app_id: ['cf52f0b5']\n",
    "# app_key: ['667a631396cca4099daa57016334d02d']\n",
    "# ResourceVersion: v4"
   ]
  },
  {
   "cell_type": "code",
   "execution_count": 8,
   "id": "e255e9f7",
   "metadata": {},
   "outputs": [
    {
     "name": "stdout",
     "output_type": "stream",
     "text": [
      "x_change_05_02: 200\n"
     ]
    }
   ],
   "source": [
    "x_change_05_02 = requests.get('https://cdn.jsdelivr.net/gh/fawazahmed0/currency-api@1/2022-05-02/currencies/eur.json')\n",
    "print(\"x_change_05_02:\", x_change_05_02.status_code)"
   ]
  },
  {
   "cell_type": "code",
   "execution_count": 29,
   "id": "055a8947",
   "metadata": {},
   "outputs": [],
   "source": [
    "#print(x_change_05_02.text)"
   ]
  },
  {
   "cell_type": "code",
   "execution_count": 10,
   "id": "36aefb2c",
   "metadata": {},
   "outputs": [
    {
     "data": {
      "text/html": [
       "<div>\n",
       "<style scoped>\n",
       "    .dataframe tbody tr th:only-of-type {\n",
       "        vertical-align: middle;\n",
       "    }\n",
       "\n",
       "    .dataframe tbody tr th {\n",
       "        vertical-align: top;\n",
       "    }\n",
       "\n",
       "    .dataframe thead th {\n",
       "        text-align: right;\n",
       "    }\n",
       "</style>\n",
       "<table border=\"1\" class=\"dataframe\">\n",
       "  <thead>\n",
       "    <tr style=\"text-align: right;\">\n",
       "      <th></th>\n",
       "      <th>date</th>\n",
       "      <th>eur</th>\n",
       "    </tr>\n",
       "  </thead>\n",
       "  <tbody>\n",
       "    <tr>\n",
       "      <th>1inch</th>\n",
       "      <td>2022-05-02</td>\n",
       "      <td>0.902024</td>\n",
       "    </tr>\n",
       "    <tr>\n",
       "      <th>ada</th>\n",
       "      <td>2022-05-02</td>\n",
       "      <td>1.340896</td>\n",
       "    </tr>\n",
       "    <tr>\n",
       "      <th>aed</th>\n",
       "      <td>2022-05-02</td>\n",
       "      <td>3.864652</td>\n",
       "    </tr>\n",
       "    <tr>\n",
       "      <th>afn</th>\n",
       "      <td>2022-05-02</td>\n",
       "      <td>90.727549</td>\n",
       "    </tr>\n",
       "    <tr>\n",
       "      <th>algo</th>\n",
       "      <td>2022-05-02</td>\n",
       "      <td>1.754733</td>\n",
       "    </tr>\n",
       "    <tr>\n",
       "      <th>...</th>\n",
       "      <td>...</td>\n",
       "      <td>...</td>\n",
       "    </tr>\n",
       "    <tr>\n",
       "      <th>yer</th>\n",
       "      <td>2022-05-02</td>\n",
       "      <td>263.358257</td>\n",
       "    </tr>\n",
       "    <tr>\n",
       "      <th>zar</th>\n",
       "      <td>2022-05-02</td>\n",
       "      <td>16.673366</td>\n",
       "    </tr>\n",
       "    <tr>\n",
       "      <th>zmk</th>\n",
       "      <td>2022-05-02</td>\n",
       "      <td>9470.609046</td>\n",
       "    </tr>\n",
       "    <tr>\n",
       "      <th>zmw</th>\n",
       "      <td>2022-05-02</td>\n",
       "      <td>17.971807</td>\n",
       "    </tr>\n",
       "    <tr>\n",
       "      <th>zwl</th>\n",
       "      <td>2022-05-02</td>\n",
       "      <td>338.791808</td>\n",
       "    </tr>\n",
       "  </tbody>\n",
       "</table>\n",
       "<p>208 rows × 2 columns</p>\n",
       "</div>"
      ],
      "text/plain": [
       "             date          eur\n",
       "1inch  2022-05-02     0.902024\n",
       "ada    2022-05-02     1.340896\n",
       "aed    2022-05-02     3.864652\n",
       "afn    2022-05-02    90.727549\n",
       "algo   2022-05-02     1.754733\n",
       "...           ...          ...\n",
       "yer    2022-05-02   263.358257\n",
       "zar    2022-05-02    16.673366\n",
       "zmk    2022-05-02  9470.609046\n",
       "zmw    2022-05-02    17.971807\n",
       "zwl    2022-05-02   338.791808\n",
       "\n",
       "[208 rows x 2 columns]"
      ]
     },
     "execution_count": 10,
     "metadata": {},
     "output_type": "execute_result"
    }
   ],
   "source": [
    "# results = api.json()\n",
    "# results\n",
    "x_change_05_02 = pd.DataFrame(x_change_05_02.json())\n",
    "x_change_05_02\n",
    "#dict(api['date'])"
   ]
  },
  {
   "cell_type": "code",
   "execution_count": 11,
   "id": "9d9fb000",
   "metadata": {},
   "outputs": [
    {
     "data": {
      "text/html": [
       "<div>\n",
       "<style scoped>\n",
       "    .dataframe tbody tr th:only-of-type {\n",
       "        vertical-align: middle;\n",
       "    }\n",
       "\n",
       "    .dataframe tbody tr th {\n",
       "        vertical-align: top;\n",
       "    }\n",
       "\n",
       "    .dataframe thead th {\n",
       "        text-align: right;\n",
       "    }\n",
       "</style>\n",
       "<table border=\"1\" class=\"dataframe\">\n",
       "  <thead>\n",
       "    <tr style=\"text-align: right;\">\n",
       "      <th></th>\n",
       "      <th>index</th>\n",
       "      <th>date</th>\n",
       "      <th>eur</th>\n",
       "    </tr>\n",
       "  </thead>\n",
       "  <tbody>\n",
       "    <tr>\n",
       "      <th>0</th>\n",
       "      <td>1inch</td>\n",
       "      <td>2022-05-02</td>\n",
       "      <td>0.902024</td>\n",
       "    </tr>\n",
       "    <tr>\n",
       "      <th>1</th>\n",
       "      <td>ada</td>\n",
       "      <td>2022-05-02</td>\n",
       "      <td>1.340896</td>\n",
       "    </tr>\n",
       "    <tr>\n",
       "      <th>2</th>\n",
       "      <td>aed</td>\n",
       "      <td>2022-05-02</td>\n",
       "      <td>3.864652</td>\n",
       "    </tr>\n",
       "    <tr>\n",
       "      <th>3</th>\n",
       "      <td>afn</td>\n",
       "      <td>2022-05-02</td>\n",
       "      <td>90.727549</td>\n",
       "    </tr>\n",
       "    <tr>\n",
       "      <th>4</th>\n",
       "      <td>algo</td>\n",
       "      <td>2022-05-02</td>\n",
       "      <td>1.754733</td>\n",
       "    </tr>\n",
       "    <tr>\n",
       "      <th>...</th>\n",
       "      <td>...</td>\n",
       "      <td>...</td>\n",
       "      <td>...</td>\n",
       "    </tr>\n",
       "    <tr>\n",
       "      <th>203</th>\n",
       "      <td>yer</td>\n",
       "      <td>2022-05-02</td>\n",
       "      <td>263.358257</td>\n",
       "    </tr>\n",
       "    <tr>\n",
       "      <th>204</th>\n",
       "      <td>zar</td>\n",
       "      <td>2022-05-02</td>\n",
       "      <td>16.673366</td>\n",
       "    </tr>\n",
       "    <tr>\n",
       "      <th>205</th>\n",
       "      <td>zmk</td>\n",
       "      <td>2022-05-02</td>\n",
       "      <td>9470.609046</td>\n",
       "    </tr>\n",
       "    <tr>\n",
       "      <th>206</th>\n",
       "      <td>zmw</td>\n",
       "      <td>2022-05-02</td>\n",
       "      <td>17.971807</td>\n",
       "    </tr>\n",
       "    <tr>\n",
       "      <th>207</th>\n",
       "      <td>zwl</td>\n",
       "      <td>2022-05-02</td>\n",
       "      <td>338.791808</td>\n",
       "    </tr>\n",
       "  </tbody>\n",
       "</table>\n",
       "<p>208 rows × 3 columns</p>\n",
       "</div>"
      ],
      "text/plain": [
       "     index        date          eur\n",
       "0    1inch  2022-05-02     0.902024\n",
       "1      ada  2022-05-02     1.340896\n",
       "2      aed  2022-05-02     3.864652\n",
       "3      afn  2022-05-02    90.727549\n",
       "4     algo  2022-05-02     1.754733\n",
       "..     ...         ...          ...\n",
       "203    yer  2022-05-02   263.358257\n",
       "204    zar  2022-05-02    16.673366\n",
       "205    zmk  2022-05-02  9470.609046\n",
       "206    zmw  2022-05-02    17.971807\n",
       "207    zwl  2022-05-02   338.791808\n",
       "\n",
       "[208 rows x 3 columns]"
      ]
     },
     "execution_count": 11,
     "metadata": {},
     "output_type": "execute_result"
    }
   ],
   "source": [
    "x_change_05_02.reset_index(drop=False,inplace=True)\n",
    "x_change_05_02"
   ]
  },
  {
   "cell_type": "code",
   "execution_count": 12,
   "id": "5191eea0",
   "metadata": {},
   "outputs": [
    {
     "data": {
      "text/html": [
       "<div>\n",
       "<style scoped>\n",
       "    .dataframe tbody tr th:only-of-type {\n",
       "        vertical-align: middle;\n",
       "    }\n",
       "\n",
       "    .dataframe tbody tr th {\n",
       "        vertical-align: top;\n",
       "    }\n",
       "\n",
       "    .dataframe thead th {\n",
       "        text-align: right;\n",
       "    }\n",
       "</style>\n",
       "<table border=\"1\" class=\"dataframe\">\n",
       "  <thead>\n",
       "    <tr style=\"text-align: right;\">\n",
       "      <th></th>\n",
       "      <th>date</th>\n",
       "      <th>currency</th>\n",
       "      <th>eur</th>\n",
       "    </tr>\n",
       "  </thead>\n",
       "  <tbody>\n",
       "    <tr>\n",
       "      <th>0</th>\n",
       "      <td>2022-05-02</td>\n",
       "      <td>1inch</td>\n",
       "      <td>0.902024</td>\n",
       "    </tr>\n",
       "    <tr>\n",
       "      <th>1</th>\n",
       "      <td>2022-05-02</td>\n",
       "      <td>ada</td>\n",
       "      <td>1.340896</td>\n",
       "    </tr>\n",
       "    <tr>\n",
       "      <th>2</th>\n",
       "      <td>2022-05-02</td>\n",
       "      <td>aed</td>\n",
       "      <td>3.864652</td>\n",
       "    </tr>\n",
       "    <tr>\n",
       "      <th>3</th>\n",
       "      <td>2022-05-02</td>\n",
       "      <td>afn</td>\n",
       "      <td>90.727549</td>\n",
       "    </tr>\n",
       "    <tr>\n",
       "      <th>4</th>\n",
       "      <td>2022-05-02</td>\n",
       "      <td>algo</td>\n",
       "      <td>1.754733</td>\n",
       "    </tr>\n",
       "  </tbody>\n",
       "</table>\n",
       "</div>"
      ],
      "text/plain": [
       "         date currency        eur\n",
       "0  2022-05-02    1inch   0.902024\n",
       "1  2022-05-02      ada   1.340896\n",
       "2  2022-05-02      aed   3.864652\n",
       "3  2022-05-02      afn  90.727549\n",
       "4  2022-05-02     algo   1.754733"
      ]
     },
     "metadata": {},
     "output_type": "display_data"
    },
    {
     "data": {
      "text/html": [
       "<div>\n",
       "<style scoped>\n",
       "    .dataframe tbody tr th:only-of-type {\n",
       "        vertical-align: middle;\n",
       "    }\n",
       "\n",
       "    .dataframe tbody tr th {\n",
       "        vertical-align: top;\n",
       "    }\n",
       "\n",
       "    .dataframe thead th {\n",
       "        text-align: right;\n",
       "    }\n",
       "</style>\n",
       "<table border=\"1\" class=\"dataframe\">\n",
       "  <thead>\n",
       "    <tr style=\"text-align: right;\">\n",
       "      <th></th>\n",
       "      <th>date</th>\n",
       "      <th>currency</th>\n",
       "      <th>eur</th>\n",
       "    </tr>\n",
       "  </thead>\n",
       "  <tbody>\n",
       "    <tr>\n",
       "      <th>203</th>\n",
       "      <td>2022-05-02</td>\n",
       "      <td>yer</td>\n",
       "      <td>263.358257</td>\n",
       "    </tr>\n",
       "    <tr>\n",
       "      <th>204</th>\n",
       "      <td>2022-05-02</td>\n",
       "      <td>zar</td>\n",
       "      <td>16.673366</td>\n",
       "    </tr>\n",
       "    <tr>\n",
       "      <th>205</th>\n",
       "      <td>2022-05-02</td>\n",
       "      <td>zmk</td>\n",
       "      <td>9470.609046</td>\n",
       "    </tr>\n",
       "    <tr>\n",
       "      <th>206</th>\n",
       "      <td>2022-05-02</td>\n",
       "      <td>zmw</td>\n",
       "      <td>17.971807</td>\n",
       "    </tr>\n",
       "    <tr>\n",
       "      <th>207</th>\n",
       "      <td>2022-05-02</td>\n",
       "      <td>zwl</td>\n",
       "      <td>338.791808</td>\n",
       "    </tr>\n",
       "  </tbody>\n",
       "</table>\n",
       "</div>"
      ],
      "text/plain": [
       "           date currency          eur\n",
       "203  2022-05-02      yer   263.358257\n",
       "204  2022-05-02      zar    16.673366\n",
       "205  2022-05-02      zmk  9470.609046\n",
       "206  2022-05-02      zmw    17.971807\n",
       "207  2022-05-02      zwl   338.791808"
      ]
     },
     "metadata": {},
     "output_type": "display_data"
    }
   ],
   "source": [
    "#api.reset_index(drop=True)\n",
    "x_change_05_02.rename(columns={'index':'currency'},inplace=True)\n",
    "x_change_05_02 = x_change_05_02[['date','currency','eur']]\n",
    "#data = data[[\"userId\",\"id\",\"title\",\"completed\"]]\n",
    "display(x_change_05_02.head())\n",
    "display(x_change_05_02.tail())"
   ]
  },
  {
   "cell_type": "markdown",
   "id": "3a605302",
   "metadata": {},
   "source": [
    "### Grabbing multiple sources"
   ]
  },
  {
   "cell_type": "code",
   "execution_count": 13,
   "id": "f5606c3f",
   "metadata": {},
   "outputs": [
    {
     "name": "stdout",
     "output_type": "stream",
     "text": [
      "x_change_05_03: 200\n",
      "x_change_05_02: 200\n",
      "x_change_04_30: 200\n",
      "x_change_04_29: 200\n",
      "x_change_04_28: 200\n"
     ]
    }
   ],
   "source": [
    "x_change_05_03 = requests.get('https://cdn.jsdelivr.net/gh/fawazahmed0/currency-api@1/2022-05-03/currencies/eur.json')\n",
    "print('x_change_05_03:', x_change_05_03.status_code)\n",
    "x_change_05_02 = requests.get('https://cdn.jsdelivr.net/gh/fawazahmed0/currency-api@1/2022-05-02/currencies/eur.json')\n",
    "print('x_change_05_02:', x_change_05_02.status_code)\n",
    "x_change_04_30 = requests.get('https://cdn.jsdelivr.net/gh/fawazahmed0/currency-api@1/2022-04-30/currencies/eur.json')\n",
    "print('x_change_04_30:', x_change_04_30.status_code)\n",
    "x_change_04_29 = requests.get('https://cdn.jsdelivr.net/gh/fawazahmed0/currency-api@1/2022-04-29/currencies/eur.json')\n",
    "print('x_change_04_29:', x_change_04_29.status_code)\n",
    "x_change_04_28 = requests.get('https://cdn.jsdelivr.net/gh/fawazahmed0/currency-api@1/2022-04-28/currencies/eur.json')\n",
    "print('x_change_04_28:', x_change_04_28.status_code)"
   ]
  },
  {
   "cell_type": "code",
   "execution_count": 14,
   "id": "2adeab78",
   "metadata": {},
   "outputs": [],
   "source": [
    "def data_frame(df):\n",
    "    df = pd.DataFrame(df.json())\n",
    "    df.reset_index(drop=False,inplace=True)\n",
    "    df.rename(columns={'index':'currency'},inplace=True)\n",
    "    df = df[['date','currency','eur']]\n",
    "    return df"
   ]
  },
  {
   "cell_type": "code",
   "execution_count": 15,
   "id": "1e83ab34",
   "metadata": {},
   "outputs": [],
   "source": [
    "x_change_05_03 = data_frame(x_change_05_03)\n",
    "x_change_05_02 = data_frame(x_change_05_02)\n",
    "x_change_04_30 = data_frame(x_change_04_30)\n",
    "x_change_04_29 = data_frame(x_change_04_29)\n",
    "x_change_04_28 = data_frame(x_change_04_28)"
   ]
  },
  {
   "cell_type": "code",
   "execution_count": 16,
   "id": "d3948745",
   "metadata": {},
   "outputs": [
    {
     "data": {
      "text/html": [
       "<div>\n",
       "<style scoped>\n",
       "    .dataframe tbody tr th:only-of-type {\n",
       "        vertical-align: middle;\n",
       "    }\n",
       "\n",
       "    .dataframe tbody tr th {\n",
       "        vertical-align: top;\n",
       "    }\n",
       "\n",
       "    .dataframe thead th {\n",
       "        text-align: right;\n",
       "    }\n",
       "</style>\n",
       "<table border=\"1\" class=\"dataframe\">\n",
       "  <thead>\n",
       "    <tr style=\"text-align: right;\">\n",
       "      <th></th>\n",
       "      <th>date</th>\n",
       "      <th>currency</th>\n",
       "      <th>eur</th>\n",
       "    </tr>\n",
       "  </thead>\n",
       "  <tbody>\n",
       "    <tr>\n",
       "      <th>0</th>\n",
       "      <td>2022-05-03</td>\n",
       "      <td>1inch</td>\n",
       "      <td>0.891752</td>\n",
       "    </tr>\n",
       "    <tr>\n",
       "      <th>1</th>\n",
       "      <td>2022-05-03</td>\n",
       "      <td>ada</td>\n",
       "      <td>1.336271</td>\n",
       "    </tr>\n",
       "    <tr>\n",
       "      <th>2</th>\n",
       "      <td>2022-05-03</td>\n",
       "      <td>aed</td>\n",
       "      <td>3.863191</td>\n",
       "    </tr>\n",
       "    <tr>\n",
       "      <th>3</th>\n",
       "      <td>2022-05-03</td>\n",
       "      <td>afn</td>\n",
       "      <td>90.408653</td>\n",
       "    </tr>\n",
       "    <tr>\n",
       "      <th>4</th>\n",
       "      <td>2022-05-03</td>\n",
       "      <td>algo</td>\n",
       "      <td>1.634366</td>\n",
       "    </tr>\n",
       "  </tbody>\n",
       "</table>\n",
       "</div>"
      ],
      "text/plain": [
       "         date currency        eur\n",
       "0  2022-05-03    1inch   0.891752\n",
       "1  2022-05-03      ada   1.336271\n",
       "2  2022-05-03      aed   3.863191\n",
       "3  2022-05-03      afn  90.408653\n",
       "4  2022-05-03     algo   1.634366"
      ]
     },
     "metadata": {},
     "output_type": "display_data"
    },
    {
     "data": {
      "text/html": [
       "<div>\n",
       "<style scoped>\n",
       "    .dataframe tbody tr th:only-of-type {\n",
       "        vertical-align: middle;\n",
       "    }\n",
       "\n",
       "    .dataframe tbody tr th {\n",
       "        vertical-align: top;\n",
       "    }\n",
       "\n",
       "    .dataframe thead th {\n",
       "        text-align: right;\n",
       "    }\n",
       "</style>\n",
       "<table border=\"1\" class=\"dataframe\">\n",
       "  <thead>\n",
       "    <tr style=\"text-align: right;\">\n",
       "      <th></th>\n",
       "      <th>date</th>\n",
       "      <th>currency</th>\n",
       "      <th>eur</th>\n",
       "    </tr>\n",
       "  </thead>\n",
       "  <tbody>\n",
       "    <tr>\n",
       "      <th>203</th>\n",
       "      <td>2022-05-03</td>\n",
       "      <td>yer</td>\n",
       "      <td>263.200552</td>\n",
       "    </tr>\n",
       "    <tr>\n",
       "      <th>204</th>\n",
       "      <td>2022-05-03</td>\n",
       "      <td>zar</td>\n",
       "      <td>16.921606</td>\n",
       "    </tr>\n",
       "    <tr>\n",
       "      <th>205</th>\n",
       "      <td>2022-05-03</td>\n",
       "      <td>zmk</td>\n",
       "      <td>9467.021280</td>\n",
       "    </tr>\n",
       "    <tr>\n",
       "      <th>206</th>\n",
       "      <td>2022-05-03</td>\n",
       "      <td>zmw</td>\n",
       "      <td>17.915654</td>\n",
       "    </tr>\n",
       "    <tr>\n",
       "      <th>207</th>\n",
       "      <td>2022-05-03</td>\n",
       "      <td>zwl</td>\n",
       "      <td>338.663501</td>\n",
       "    </tr>\n",
       "  </tbody>\n",
       "</table>\n",
       "</div>"
      ],
      "text/plain": [
       "           date currency          eur\n",
       "203  2022-05-03      yer   263.200552\n",
       "204  2022-05-03      zar    16.921606\n",
       "205  2022-05-03      zmk  9467.021280\n",
       "206  2022-05-03      zmw    17.915654\n",
       "207  2022-05-03      zwl   338.663501"
      ]
     },
     "metadata": {},
     "output_type": "display_data"
    }
   ],
   "source": [
    "display(x_change_05_03.head())\n",
    "display(x_change_05_03.tail())"
   ]
  },
  {
   "cell_type": "code",
   "execution_count": 17,
   "id": "d9d7e1cf",
   "metadata": {},
   "outputs": [
    {
     "data": {
      "text/html": [
       "<div>\n",
       "<style scoped>\n",
       "    .dataframe tbody tr th:only-of-type {\n",
       "        vertical-align: middle;\n",
       "    }\n",
       "\n",
       "    .dataframe tbody tr th {\n",
       "        vertical-align: top;\n",
       "    }\n",
       "\n",
       "    .dataframe thead th {\n",
       "        text-align: right;\n",
       "    }\n",
       "</style>\n",
       "<table border=\"1\" class=\"dataframe\">\n",
       "  <thead>\n",
       "    <tr style=\"text-align: right;\">\n",
       "      <th></th>\n",
       "      <th>date</th>\n",
       "      <th>currency</th>\n",
       "      <th>eur</th>\n",
       "    </tr>\n",
       "  </thead>\n",
       "  <tbody>\n",
       "    <tr>\n",
       "      <th>0</th>\n",
       "      <td>2022-05-02</td>\n",
       "      <td>1inch</td>\n",
       "      <td>0.902024</td>\n",
       "    </tr>\n",
       "    <tr>\n",
       "      <th>1</th>\n",
       "      <td>2022-05-02</td>\n",
       "      <td>ada</td>\n",
       "      <td>1.340896</td>\n",
       "    </tr>\n",
       "    <tr>\n",
       "      <th>2</th>\n",
       "      <td>2022-05-02</td>\n",
       "      <td>aed</td>\n",
       "      <td>3.864652</td>\n",
       "    </tr>\n",
       "    <tr>\n",
       "      <th>3</th>\n",
       "      <td>2022-05-02</td>\n",
       "      <td>afn</td>\n",
       "      <td>90.727549</td>\n",
       "    </tr>\n",
       "    <tr>\n",
       "      <th>4</th>\n",
       "      <td>2022-05-02</td>\n",
       "      <td>algo</td>\n",
       "      <td>1.754733</td>\n",
       "    </tr>\n",
       "  </tbody>\n",
       "</table>\n",
       "</div>"
      ],
      "text/plain": [
       "         date currency        eur\n",
       "0  2022-05-02    1inch   0.902024\n",
       "1  2022-05-02      ada   1.340896\n",
       "2  2022-05-02      aed   3.864652\n",
       "3  2022-05-02      afn  90.727549\n",
       "4  2022-05-02     algo   1.754733"
      ]
     },
     "metadata": {},
     "output_type": "display_data"
    },
    {
     "data": {
      "text/html": [
       "<div>\n",
       "<style scoped>\n",
       "    .dataframe tbody tr th:only-of-type {\n",
       "        vertical-align: middle;\n",
       "    }\n",
       "\n",
       "    .dataframe tbody tr th {\n",
       "        vertical-align: top;\n",
       "    }\n",
       "\n",
       "    .dataframe thead th {\n",
       "        text-align: right;\n",
       "    }\n",
       "</style>\n",
       "<table border=\"1\" class=\"dataframe\">\n",
       "  <thead>\n",
       "    <tr style=\"text-align: right;\">\n",
       "      <th></th>\n",
       "      <th>date</th>\n",
       "      <th>currency</th>\n",
       "      <th>eur</th>\n",
       "    </tr>\n",
       "  </thead>\n",
       "  <tbody>\n",
       "    <tr>\n",
       "      <th>203</th>\n",
       "      <td>2022-05-02</td>\n",
       "      <td>yer</td>\n",
       "      <td>263.358257</td>\n",
       "    </tr>\n",
       "    <tr>\n",
       "      <th>204</th>\n",
       "      <td>2022-05-02</td>\n",
       "      <td>zar</td>\n",
       "      <td>16.673366</td>\n",
       "    </tr>\n",
       "    <tr>\n",
       "      <th>205</th>\n",
       "      <td>2022-05-02</td>\n",
       "      <td>zmk</td>\n",
       "      <td>9470.609046</td>\n",
       "    </tr>\n",
       "    <tr>\n",
       "      <th>206</th>\n",
       "      <td>2022-05-02</td>\n",
       "      <td>zmw</td>\n",
       "      <td>17.971807</td>\n",
       "    </tr>\n",
       "    <tr>\n",
       "      <th>207</th>\n",
       "      <td>2022-05-02</td>\n",
       "      <td>zwl</td>\n",
       "      <td>338.791808</td>\n",
       "    </tr>\n",
       "  </tbody>\n",
       "</table>\n",
       "</div>"
      ],
      "text/plain": [
       "           date currency          eur\n",
       "203  2022-05-02      yer   263.358257\n",
       "204  2022-05-02      zar    16.673366\n",
       "205  2022-05-02      zmk  9470.609046\n",
       "206  2022-05-02      zmw    17.971807\n",
       "207  2022-05-02      zwl   338.791808"
      ]
     },
     "metadata": {},
     "output_type": "display_data"
    }
   ],
   "source": [
    "display(x_change_05_02.head())\n",
    "display(x_change_05_02.tail())"
   ]
  },
  {
   "cell_type": "code",
   "execution_count": 18,
   "id": "9f6c041e",
   "metadata": {},
   "outputs": [
    {
     "data": {
      "text/html": [
       "<div>\n",
       "<style scoped>\n",
       "    .dataframe tbody tr th:only-of-type {\n",
       "        vertical-align: middle;\n",
       "    }\n",
       "\n",
       "    .dataframe tbody tr th {\n",
       "        vertical-align: top;\n",
       "    }\n",
       "\n",
       "    .dataframe thead th {\n",
       "        text-align: right;\n",
       "    }\n",
       "</style>\n",
       "<table border=\"1\" class=\"dataframe\">\n",
       "  <thead>\n",
       "    <tr style=\"text-align: right;\">\n",
       "      <th></th>\n",
       "      <th>date</th>\n",
       "      <th>currency</th>\n",
       "      <th>eur</th>\n",
       "    </tr>\n",
       "  </thead>\n",
       "  <tbody>\n",
       "    <tr>\n",
       "      <th>0</th>\n",
       "      <td>2022-04-28</td>\n",
       "      <td>1inch</td>\n",
       "      <td>0.799898</td>\n",
       "    </tr>\n",
       "    <tr>\n",
       "      <th>1</th>\n",
       "      <td>2022-04-28</td>\n",
       "      <td>ada</td>\n",
       "      <td>1.251455</td>\n",
       "    </tr>\n",
       "    <tr>\n",
       "      <th>2</th>\n",
       "      <td>2022-04-28</td>\n",
       "      <td>aed</td>\n",
       "      <td>3.874412</td>\n",
       "    </tr>\n",
       "    <tr>\n",
       "      <th>3</th>\n",
       "      <td>2022-04-28</td>\n",
       "      <td>afn</td>\n",
       "      <td>91.242000</td>\n",
       "    </tr>\n",
       "    <tr>\n",
       "      <th>4</th>\n",
       "      <td>2022-04-28</td>\n",
       "      <td>algo</td>\n",
       "      <td>1.578855</td>\n",
       "    </tr>\n",
       "  </tbody>\n",
       "</table>\n",
       "</div>"
      ],
      "text/plain": [
       "         date currency        eur\n",
       "0  2022-04-28    1inch   0.799898\n",
       "1  2022-04-28      ada   1.251455\n",
       "2  2022-04-28      aed   3.874412\n",
       "3  2022-04-28      afn  91.242000\n",
       "4  2022-04-28     algo   1.578855"
      ]
     },
     "metadata": {},
     "output_type": "display_data"
    },
    {
     "data": {
      "text/html": [
       "<div>\n",
       "<style scoped>\n",
       "    .dataframe tbody tr th:only-of-type {\n",
       "        vertical-align: middle;\n",
       "    }\n",
       "\n",
       "    .dataframe tbody tr th {\n",
       "        vertical-align: top;\n",
       "    }\n",
       "\n",
       "    .dataframe thead th {\n",
       "        text-align: right;\n",
       "    }\n",
       "</style>\n",
       "<table border=\"1\" class=\"dataframe\">\n",
       "  <thead>\n",
       "    <tr style=\"text-align: right;\">\n",
       "      <th></th>\n",
       "      <th>date</th>\n",
       "      <th>currency</th>\n",
       "      <th>eur</th>\n",
       "    </tr>\n",
       "  </thead>\n",
       "  <tbody>\n",
       "    <tr>\n",
       "      <th>203</th>\n",
       "      <td>2022-04-28</td>\n",
       "      <td>yer</td>\n",
       "      <td>263.965605</td>\n",
       "    </tr>\n",
       "    <tr>\n",
       "      <th>204</th>\n",
       "      <td>2022-04-28</td>\n",
       "      <td>zar</td>\n",
       "      <td>16.759227</td>\n",
       "    </tr>\n",
       "    <tr>\n",
       "      <th>205</th>\n",
       "      <td>2022-04-28</td>\n",
       "      <td>zmk</td>\n",
       "      <td>9494.533200</td>\n",
       "    </tr>\n",
       "    <tr>\n",
       "      <th>206</th>\n",
       "      <td>2022-04-28</td>\n",
       "      <td>zmw</td>\n",
       "      <td>17.972557</td>\n",
       "    </tr>\n",
       "    <tr>\n",
       "      <th>207</th>\n",
       "      <td>2022-04-28</td>\n",
       "      <td>zwl</td>\n",
       "      <td>339.647739</td>\n",
       "    </tr>\n",
       "  </tbody>\n",
       "</table>\n",
       "</div>"
      ],
      "text/plain": [
       "           date currency          eur\n",
       "203  2022-04-28      yer   263.965605\n",
       "204  2022-04-28      zar    16.759227\n",
       "205  2022-04-28      zmk  9494.533200\n",
       "206  2022-04-28      zmw    17.972557\n",
       "207  2022-04-28      zwl   339.647739"
      ]
     },
     "metadata": {},
     "output_type": "display_data"
    }
   ],
   "source": [
    "display(x_change_04_28.head())\n",
    "display(x_change_04_28.tail())"
   ]
  },
  {
   "cell_type": "code",
   "execution_count": 19,
   "id": "5f564dee",
   "metadata": {},
   "outputs": [
    {
     "data": {
      "text/html": [
       "<div>\n",
       "<style scoped>\n",
       "    .dataframe tbody tr th:only-of-type {\n",
       "        vertical-align: middle;\n",
       "    }\n",
       "\n",
       "    .dataframe tbody tr th {\n",
       "        vertical-align: top;\n",
       "    }\n",
       "\n",
       "    .dataframe thead th {\n",
       "        text-align: right;\n",
       "    }\n",
       "</style>\n",
       "<table border=\"1\" class=\"dataframe\">\n",
       "  <thead>\n",
       "    <tr style=\"text-align: right;\">\n",
       "      <th></th>\n",
       "      <th>date</th>\n",
       "      <th>currency</th>\n",
       "      <th>eur</th>\n",
       "    </tr>\n",
       "  </thead>\n",
       "  <tbody>\n",
       "    <tr>\n",
       "      <th>0</th>\n",
       "      <td>2022-04-28</td>\n",
       "      <td>1inch</td>\n",
       "      <td>0.799898</td>\n",
       "    </tr>\n",
       "    <tr>\n",
       "      <th>1</th>\n",
       "      <td>2022-04-28</td>\n",
       "      <td>ada</td>\n",
       "      <td>1.251455</td>\n",
       "    </tr>\n",
       "    <tr>\n",
       "      <th>2</th>\n",
       "      <td>2022-04-28</td>\n",
       "      <td>aed</td>\n",
       "      <td>3.874412</td>\n",
       "    </tr>\n",
       "    <tr>\n",
       "      <th>3</th>\n",
       "      <td>2022-04-28</td>\n",
       "      <td>afn</td>\n",
       "      <td>91.242000</td>\n",
       "    </tr>\n",
       "    <tr>\n",
       "      <th>4</th>\n",
       "      <td>2022-04-28</td>\n",
       "      <td>algo</td>\n",
       "      <td>1.578855</td>\n",
       "    </tr>\n",
       "    <tr>\n",
       "      <th>...</th>\n",
       "      <td>...</td>\n",
       "      <td>...</td>\n",
       "      <td>...</td>\n",
       "    </tr>\n",
       "    <tr>\n",
       "      <th>203</th>\n",
       "      <td>2022-05-03</td>\n",
       "      <td>yer</td>\n",
       "      <td>263.200552</td>\n",
       "    </tr>\n",
       "    <tr>\n",
       "      <th>204</th>\n",
       "      <td>2022-05-03</td>\n",
       "      <td>zar</td>\n",
       "      <td>16.921606</td>\n",
       "    </tr>\n",
       "    <tr>\n",
       "      <th>205</th>\n",
       "      <td>2022-05-03</td>\n",
       "      <td>zmk</td>\n",
       "      <td>9467.021280</td>\n",
       "    </tr>\n",
       "    <tr>\n",
       "      <th>206</th>\n",
       "      <td>2022-05-03</td>\n",
       "      <td>zmw</td>\n",
       "      <td>17.915654</td>\n",
       "    </tr>\n",
       "    <tr>\n",
       "      <th>207</th>\n",
       "      <td>2022-05-03</td>\n",
       "      <td>zwl</td>\n",
       "      <td>338.663501</td>\n",
       "    </tr>\n",
       "  </tbody>\n",
       "</table>\n",
       "<p>1040 rows × 3 columns</p>\n",
       "</div>"
      ],
      "text/plain": [
       "           date currency          eur\n",
       "0    2022-04-28    1inch     0.799898\n",
       "1    2022-04-28      ada     1.251455\n",
       "2    2022-04-28      aed     3.874412\n",
       "3    2022-04-28      afn    91.242000\n",
       "4    2022-04-28     algo     1.578855\n",
       "..          ...      ...          ...\n",
       "203  2022-05-03      yer   263.200552\n",
       "204  2022-05-03      zar    16.921606\n",
       "205  2022-05-03      zmk  9467.021280\n",
       "206  2022-05-03      zmw    17.915654\n",
       "207  2022-05-03      zwl   338.663501\n",
       "\n",
       "[1040 rows x 3 columns]"
      ]
     },
     "execution_count": 19,
     "metadata": {},
     "output_type": "execute_result"
    }
   ],
   "source": [
    "x_change = pd.concat([x_change_04_28,x_change_04_29,x_change_04_30, x_change_05_02,x_change_05_03], axis=0)\n",
    "x_change"
   ]
  },
  {
   "cell_type": "code",
   "execution_count": null,
   "id": "b74702c7",
   "metadata": {},
   "outputs": [],
   "source": []
  },
  {
   "cell_type": "code",
   "execution_count": null,
   "id": "922a1704",
   "metadata": {},
   "outputs": [],
   "source": []
  },
  {
   "cell_type": "markdown",
   "id": "07ed0c3c",
   "metadata": {},
   "source": [
    "### Looking into a way to create a string for the date in the url"
   ]
  },
  {
   "cell_type": "code",
   "execution_count": 20,
   "id": "bd854598",
   "metadata": {},
   "outputs": [
    {
     "data": {
      "text/plain": [
       "'2022-05-03'"
      ]
     },
     "execution_count": 20,
     "metadata": {},
     "output_type": "execute_result"
    }
   ],
   "source": [
    "datetime.today().strftime('%Y-%m-%d')"
   ]
  },
  {
   "cell_type": "code",
   "execution_count": 21,
   "id": "1e67edcb",
   "metadata": {},
   "outputs": [
    {
     "data": {
      "text/plain": [
       "'2022-05-02'"
      ]
     },
     "execution_count": 21,
     "metadata": {},
     "output_type": "execute_result"
    }
   ],
   "source": [
    "today = datetime. today()\n",
    "yesterday = today - timedelta(days=1)\n",
    "one_week_ago = today - timedelta(days=7)\n",
    "thirty_days_ago = today - timedelta(days=30)\n",
    "yesterday.strftime('%Y-%m-%d')"
   ]
  },
  {
   "cell_type": "code",
   "execution_count": 22,
   "id": "4dbed500",
   "metadata": {},
   "outputs": [
    {
     "data": {
      "text/plain": [
       "datetime.datetime(2022, 4, 25, 0, 0)"
      ]
     },
     "execution_count": 22,
     "metadata": {},
     "output_type": "execute_result"
    }
   ],
   "source": [
    "date = datetime.today().strftime('%Y-%m-%d')\n",
    "yesterday = datetime.strptime(date,'%Y-%m-%d') - timedelta(days=7) - timedelta(days=1)\n",
    "yesterday"
   ]
  },
  {
   "cell_type": "code",
   "execution_count": 23,
   "id": "15d935b8",
   "metadata": {},
   "outputs": [],
   "source": [
    "# one_week_ago = today - timedelta(days=7)\n",
    "# start_date = datetime.strptime(date,'%Y-%m-%d')\n",
    "# end_date = datetime.strptime(one_week_ago,'%Y-%m-%d')\n",
    "# delta = datetime.timedelta(days=1)\n",
    "# while start_date <= end_date:\n",
    "#     print(start_date)\n",
    "#     start_date += delta"
   ]
  },
  {
   "cell_type": "code",
   "execution_count": 24,
   "id": "4d32d7cc",
   "metadata": {},
   "outputs": [
    {
     "data": {
      "text/plain": [
       "datetime.datetime(2022, 4, 26, 0, 0)"
      ]
     },
     "metadata": {},
     "output_type": "display_data"
    },
    {
     "data": {
      "text/plain": [
       "datetime.datetime(2022, 5, 3, 0, 0)"
      ]
     },
     "metadata": {},
     "output_type": "display_data"
    }
   ],
   "source": [
    "display(datetime.strptime(date,'%Y-%m-%d') - timedelta(days=7))\n",
    "display(datetime.strptime(date,'%Y-%m-%d'))"
   ]
  },
  {
   "cell_type": "code",
   "execution_count": 25,
   "id": "70a7f9e1",
   "metadata": {},
   "outputs": [
    {
     "data": {
      "text/plain": [
       "[1, 2, 3, 4]"
      ]
     },
     "execution_count": 25,
     "metadata": {},
     "output_type": "execute_result"
    }
   ],
   "source": [
    "iterations = range(1, 5, 1)\n",
    "[i for i in iterations]"
   ]
  },
  {
   "cell_type": "code",
   "execution_count": 26,
   "id": "f20bb867",
   "metadata": {},
   "outputs": [],
   "source": [
    "# Trying to create a list of variable dates based on today's date to capture the latest 5 days of currency data\n",
    "# start_date = datetime.strptime(date,'%Y-%m-%d')\n",
    "# end_date = datetime.strptime(date,'%Y-%m-%d') - timedelta(days=7)\n",
    "# delta = timedelta(days=1)\n",
    "\n",
    "# while start_date <= end_date:\n",
    "#     print(start_date)\n",
    "#     start_date += delta\n"
   ]
  },
  {
   "cell_type": "code",
   "execution_count": 27,
   "id": "2982ed47",
   "metadata": {},
   "outputs": [
    {
     "name": "stdout",
     "output_type": "stream",
     "text": [
      "Status code: 200\n",
      "I will sleep for 1 second/s.\n",
      "Status code: 200\n",
      "I will sleep for 3 second/s.\n",
      "Status code: 200\n",
      "I will sleep for 2 second/s.\n",
      "Status code: 200\n",
      "I will sleep for 2 second/s.\n",
      "Status code: 200\n",
      "I will sleep for 4 second/s.\n"
     ]
    }
   ],
   "source": [
    "# Not quite what I wanted. Struggling to save each request.get in it's own right\n",
    "from random import randint\n",
    "from time import sleep\n",
    "dates = ['2022-05-03','2022-05-02','2022-04-30','2022-04-29','2022-04-28']\n",
    "pages = []\n",
    "\n",
    "for i in dates:\n",
    "    # assemble the url:\n",
    "    start_at= str(i)\n",
    "    url = 'https://cdn.jsdelivr.net/gh/fawazahmed0/currency-api@1/'+ start_at +'/currencies/eur.json'\n",
    "\n",
    "    # download html with a get request:\n",
    "    start_at = requests.get(url, headers = {\"Accept-Language\": \"en-US\"})\n",
    "\n",
    "    # monitor the process by printing the status code\n",
    "    print(\"Status code: \" + str(start_at.status_code))\n",
    "\n",
    "    # store response into \"pages\" list\n",
    "    pages.append(start_at)\n",
    "\n",
    "    # respectful nap:\n",
    "    wait_time = randint(1,4)\n",
    "    print(\"I will sleep for \" + str(wait_time) + \" second/s.\")\n",
    "    sleep(wait_time)"
   ]
  },
  {
   "cell_type": "code",
   "execution_count": 28,
   "id": "d7a9a2cf",
   "metadata": {},
   "outputs": [
    {
     "data": {
      "text/plain": [
       "<Response [200]>"
      ]
     },
     "execution_count": 28,
     "metadata": {},
     "output_type": "execute_result"
    }
   ],
   "source": [
    "start_at"
   ]
  }
 ],
 "metadata": {
  "kernelspec": {
   "display_name": "Python 3 (ipykernel)",
   "language": "python",
   "name": "python3"
  },
  "language_info": {
   "codemirror_mode": {
    "name": "ipython",
    "version": 3
   },
   "file_extension": ".py",
   "mimetype": "text/x-python",
   "name": "python",
   "nbconvert_exporter": "python",
   "pygments_lexer": "ipython3",
   "version": "3.9.7"
  }
 },
 "nbformat": 4,
 "nbformat_minor": 5
}
